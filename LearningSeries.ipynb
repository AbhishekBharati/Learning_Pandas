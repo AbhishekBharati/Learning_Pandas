{
  "nbformat": 4,
  "nbformat_minor": 0,
  "metadata": {
    "colab": {
      "provenance": [],
      "authorship_tag": "ABX9TyNgeOGBWKbxQd10rQxj9Mhc",
      "include_colab_link": true
    },
    "kernelspec": {
      "name": "python3",
      "display_name": "Python 3"
    },
    "language_info": {
      "name": "python"
    }
  },
  "cells": [
    {
      "cell_type": "markdown",
      "metadata": {
        "id": "view-in-github",
        "colab_type": "text"
      },
      "source": [
        "<a href=\"https://colab.research.google.com/github/AbhishekBharati/Learning_Pandas/blob/main/LearningSeries.ipynb\" target=\"_parent\"><img src=\"https://colab.research.google.com/assets/colab-badge.svg\" alt=\"Open In Colab\"/></a>"
      ]
    },
    {
      "cell_type": "markdown",
      "source": [
        "**Learning Pandas**"
      ],
      "metadata": {
        "id": "xj0p7Fb0uwyT"
      }
    },
    {
      "cell_type": "code",
      "execution_count": 14,
      "metadata": {
        "colab": {
          "base_uri": "https://localhost:8080/"
        },
        "id": "_jo93kvhuk52",
        "outputId": "7c85914d-a264-4b68-b51c-f4b08453a8a3"
      },
      "outputs": [
        {
          "output_type": "stream",
          "name": "stdout",
          "text": [
            "a    4.0\n",
            "s    5.0\n",
            "d    6.0\n",
            "f    7.0\n",
            "Name: python, dtype: float64\n",
            "<class 'pandas.core.series.Series'>\n",
            "5.0\n",
            "6.0\n"
          ]
        }
      ],
      "source": [
        "import pandas as pd;\n",
        "\n",
        "x = [4,5,6,7];\n",
        "\n",
        "var = pd.Series(x, index=['a', 's', 'd', 'f'], dtype = \"float\", name=\"python\");\n",
        "print(var);\n",
        "print(type(var));\n",
        "print(var['s']); #print(var[2]);\n",
        "print(var.iloc[2]);\n"
      ]
    },
    {
      "cell_type": "code",
      "source": [
        "dic = {\"name\" : [\"python\", \"c\", \"cpp\", \"java\"], \"popularity\" : [12,13,14,15], \"rank\" : { \"python\" : 1, \"c\" : 2, \"cpp\" : 3, \"java\" : 4}};\n",
        "\n",
        "var1 = pd.Series(dic);\n",
        "print(var1);"
      ],
      "metadata": {
        "colab": {
          "base_uri": "https://localhost:8080/"
        },
        "id": "VqgVmi1twT1q",
        "outputId": "7498bf9e-0418-413c-f7cb-05eb173070db"
      },
      "execution_count": 6,
      "outputs": [
        {
          "output_type": "stream",
          "name": "stdout",
          "text": [
            "name                              [python, c, cpp, java]\n",
            "popularity                              [12, 13, 14, 15]\n",
            "rank          {'python': 1, 'c': 2, 'cpp': 3, 'java': 4}\n",
            "dtype: object\n"
          ]
        }
      ]
    },
    {
      "cell_type": "code",
      "source": [
        "s = pd.Series(12);\n",
        "print(s);\n",
        "print(type(s));"
      ],
      "metadata": {
        "colab": {
          "base_uri": "https://localhost:8080/"
        },
        "id": "-AxG74Bkw6FE",
        "outputId": "f29fbf13-30c6-455f-957a-742cf1dabbb9"
      },
      "execution_count": 7,
      "outputs": [
        {
          "output_type": "stream",
          "name": "stdout",
          "text": [
            "0    12\n",
            "dtype: int64\n",
            "<class 'pandas.core.series.Series'>\n"
          ]
        }
      ]
    },
    {
      "cell_type": "code",
      "source": [
        "s1 = pd.Series(12, index = [1,2,3,4,5,6,7]);\n",
        "s2 = pd.Series(12, index = [1,2,3,4]);\n",
        "\n",
        "print(s1 + s2);"
      ],
      "metadata": {
        "colab": {
          "base_uri": "https://localhost:8080/"
        },
        "id": "vcwWPoh9yx1M",
        "outputId": "bad3e650-0543-49df-87b7-c87fdef9d9f9"
      },
      "execution_count": 15,
      "outputs": [
        {
          "output_type": "stream",
          "name": "stdout",
          "text": [
            "1    24.0\n",
            "2    24.0\n",
            "3    24.0\n",
            "4    24.0\n",
            "5     NaN\n",
            "6     NaN\n",
            "7     NaN\n",
            "dtype: float64\n"
          ]
        }
      ]
    }
  ]
}